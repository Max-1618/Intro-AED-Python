{
 "cells": [
  {
   "cell_type": "markdown",
   "metadata": {},
   "source": [
    "# Análise Exploratória de Dados\n",
    "\n",
    "utilizando as bibliotecas Numpy, Pandas, Matplotlib e Seaborn"
   ]
  },
  {
   "cell_type": "code",
   "execution_count": 1,
   "metadata": {},
   "outputs": [],
   "source": [
    "# Importando os módulos\n",
    "import numpy as np\n",
    "import pandas as pd\n",
    "import matplotlib.pyplot as plt\n",
    "import seaborn as sns\n",
    "%matplotlib inline"
   ]
  },
  {
   "cell_type": "code",
   "execution_count": 2,
   "metadata": {},
   "outputs": [
    {
     "data": {
      "text/html": [
       "<div>\n",
       "<style scoped>\n",
       "    .dataframe tbody tr th:only-of-type {\n",
       "        vertical-align: middle;\n",
       "    }\n",
       "\n",
       "    .dataframe tbody tr th {\n",
       "        vertical-align: top;\n",
       "    }\n",
       "\n",
       "    .dataframe thead th {\n",
       "        text-align: right;\n",
       "    }\n",
       "</style>\n",
       "<table border=\"1\" class=\"dataframe\">\n",
       "  <thead>\n",
       "    <tr style=\"text-align: right;\">\n",
       "      <th></th>\n",
       "      <th>id</th>\n",
       "      <th>Valor</th>\n",
       "      <th>Tamanho</th>\n",
       "      <th>Lote</th>\n",
       "      <th>Banheiros</th>\n",
       "      <th>Quartos</th>\n",
       "      <th>BQ</th>\n",
       "      <th>Ano</th>\n",
       "      <th>Tempo</th>\n",
       "      <th>Tempo_Quad</th>\n",
       "      <th>Garagem_Tamanho</th>\n",
       "      <th>Status</th>\n",
       "      <th>D7</th>\n",
       "      <th>escola</th>\n",
       "      <th>D8</th>\n",
       "      <th>D9</th>\n",
       "      <th>D10</th>\n",
       "      <th>D11</th>\n",
       "      <th>D12</th>\n",
       "    </tr>\n",
       "  </thead>\n",
       "  <tbody>\n",
       "    <tr>\n",
       "      <th>0</th>\n",
       "      <td>1</td>\n",
       "      <td>388.0</td>\n",
       "      <td>2.180</td>\n",
       "      <td>4</td>\n",
       "      <td>3.0</td>\n",
       "      <td>4</td>\n",
       "      <td>12.0</td>\n",
       "      <td>1940</td>\n",
       "      <td>-3.0</td>\n",
       "      <td>9.00</td>\n",
       "      <td>0</td>\n",
       "      <td>sld</td>\n",
       "      <td>0</td>\n",
       "      <td>edison</td>\n",
       "      <td>1</td>\n",
       "      <td>0</td>\n",
       "      <td>0</td>\n",
       "      <td>0</td>\n",
       "      <td>0</td>\n",
       "    </tr>\n",
       "    <tr>\n",
       "      <th>1</th>\n",
       "      <td>2</td>\n",
       "      <td>450.0</td>\n",
       "      <td>2.054</td>\n",
       "      <td>5</td>\n",
       "      <td>3.0</td>\n",
       "      <td>4</td>\n",
       "      <td>12.0</td>\n",
       "      <td>1957</td>\n",
       "      <td>-1.3</td>\n",
       "      <td>1.69</td>\n",
       "      <td>2</td>\n",
       "      <td>sld</td>\n",
       "      <td>0</td>\n",
       "      <td>edison</td>\n",
       "      <td>1</td>\n",
       "      <td>0</td>\n",
       "      <td>0</td>\n",
       "      <td>0</td>\n",
       "      <td>0</td>\n",
       "    </tr>\n",
       "    <tr>\n",
       "      <th>2</th>\n",
       "      <td>3</td>\n",
       "      <td>386.0</td>\n",
       "      <td>2.112</td>\n",
       "      <td>5</td>\n",
       "      <td>2.0</td>\n",
       "      <td>4</td>\n",
       "      <td>8.0</td>\n",
       "      <td>1955</td>\n",
       "      <td>-1.5</td>\n",
       "      <td>2.25</td>\n",
       "      <td>2</td>\n",
       "      <td>sld</td>\n",
       "      <td>0</td>\n",
       "      <td>edison</td>\n",
       "      <td>1</td>\n",
       "      <td>0</td>\n",
       "      <td>0</td>\n",
       "      <td>0</td>\n",
       "      <td>0</td>\n",
       "    </tr>\n",
       "    <tr>\n",
       "      <th>3</th>\n",
       "      <td>4</td>\n",
       "      <td>350.0</td>\n",
       "      <td>1.442</td>\n",
       "      <td>6</td>\n",
       "      <td>1.0</td>\n",
       "      <td>2</td>\n",
       "      <td>2.0</td>\n",
       "      <td>1956</td>\n",
       "      <td>-1.4</td>\n",
       "      <td>1.96</td>\n",
       "      <td>1</td>\n",
       "      <td>act</td>\n",
       "      <td>1</td>\n",
       "      <td>adams</td>\n",
       "      <td>0</td>\n",
       "      <td>0</td>\n",
       "      <td>1</td>\n",
       "      <td>0</td>\n",
       "      <td>0</td>\n",
       "    </tr>\n",
       "    <tr>\n",
       "      <th>4</th>\n",
       "      <td>5</td>\n",
       "      <td>155.5</td>\n",
       "      <td>1.800</td>\n",
       "      <td>1</td>\n",
       "      <td>2.0</td>\n",
       "      <td>4</td>\n",
       "      <td>8.0</td>\n",
       "      <td>1994</td>\n",
       "      <td>2.4</td>\n",
       "      <td>5.76</td>\n",
       "      <td>1</td>\n",
       "      <td>sld</td>\n",
       "      <td>0</td>\n",
       "      <td>adams</td>\n",
       "      <td>0</td>\n",
       "      <td>0</td>\n",
       "      <td>1</td>\n",
       "      <td>0</td>\n",
       "      <td>0</td>\n",
       "    </tr>\n",
       "  </tbody>\n",
       "</table>\n",
       "</div>"
      ],
      "text/plain": [
       "   id  Valor  Tamanho  Lote  Banheiros  Quartos    BQ   Ano  Tempo  \\\n",
       "0   1  388.0    2.180     4        3.0        4  12.0  1940   -3.0   \n",
       "1   2  450.0    2.054     5        3.0        4  12.0  1957   -1.3   \n",
       "2   3  386.0    2.112     5        2.0        4   8.0  1955   -1.5   \n",
       "3   4  350.0    1.442     6        1.0        2   2.0  1956   -1.4   \n",
       "4   5  155.5    1.800     1        2.0        4   8.0  1994    2.4   \n",
       "\n",
       "   Tempo_Quad  Garagem_Tamanho Status  D7  escola  D8  D9  D10  D11  D12  \n",
       "0        9.00                0    sld   0  edison   1   0    0    0    0  \n",
       "1        1.69                2    sld   0  edison   1   0    0    0    0  \n",
       "2        2.25                2    sld   0  edison   1   0    0    0    0  \n",
       "3        1.96                1    act   1   adams   0   0    1    0    0  \n",
       "4        5.76                1    sld   0   adams   0   0    1    0    0  "
      ]
     },
     "execution_count": 2,
     "metadata": {},
     "output_type": "execute_result"
    }
   ],
   "source": [
    "# Carregando o dataset \n",
    "casas = pd.read_csv('Casas.csv')\n",
    "casas.head()"
   ]
  },
  {
   "cell_type": "code",
   "execution_count": 3,
   "metadata": {},
   "outputs": [
    {
     "data": {
      "text/plain": [
       "(76, 19)"
      ]
     },
     "execution_count": 3,
     "metadata": {},
     "output_type": "execute_result"
    }
   ],
   "source": [
    "# Verificando o número de observações e variáveis\n",
    "casas.shape"
   ]
  },
  {
   "cell_type": "code",
   "execution_count": 4,
   "metadata": {},
   "outputs": [
    {
     "data": {
      "text/plain": [
       "count     76.000000\n",
       "mean     285.795395\n",
       "std       60.332686\n",
       "min      155.500000\n",
       "25%      242.750000\n",
       "50%      276.000000\n",
       "75%      336.750000\n",
       "max      450.000000\n",
       "Name: Valor, dtype: float64"
      ]
     },
     "execution_count": 4,
     "metadata": {},
     "output_type": "execute_result"
    }
   ],
   "source": [
    "# Medidas de tendência central do atributo \"Valor\"\n",
    "casas['Valor'].describe()"
   ]
  },
  {
   "cell_type": "code",
   "execution_count": 5,
   "metadata": {},
   "outputs": [
    {
     "data": {
      "text/plain": [
       "<matplotlib.axes._subplots.AxesSubplot at 0x109e52c2b0>"
      ]
     },
     "execution_count": 5,
     "metadata": {},
     "output_type": "execute_result"
    },
    {
     "data": {
      "image/png": "[encoded data removed]",
      "text/plain": [
       "<Figure size 432x288 with 1 Axes>"
      ]
     },
     "metadata": {},
     "output_type": "display_data"
    }
   ],
   "source": [
    "# Boxplot do atributo \"Valor\"\n",
    "sns.boxplot(y=casas['Valor'])"
   ]
  },
  {
   "cell_type": "code",
   "execution_count": 6,
   "metadata": {},
   "outputs": [
    {
     "data": {
      "text/plain": [
       "<matplotlib.lines.Line2D at 0x109e593400>"
      ]
     },
     "execution_count": 6,
     "metadata": {},
     "output_type": "execute_result"
    },
    {
     "data": {
      "image/png": "[encoded data removed]",
      "text/plain": [
       "<Figure size 432x288 with 1 Axes>"
      ]
     },
     "metadata": {},
     "output_type": "display_data"
    }
   ],
   "source": [
    "plt.hist(casas['Valor'])\n",
    "plt.axvline(casas['Valor'].median(), color='k', linestyle='dashed')"
   ]
  },
  {
   "cell_type": "code",
   "execution_count": 7,
   "metadata": {},
   "outputs": [
    {
     "data": {
      "text/plain": [
       "<matplotlib.axes._subplots.AxesSubplot at 0x109e6624e0>"
      ]
     },
     "execution_count": 7,
     "metadata": {},
     "output_type": "execute_result"
    },
    {
     "data": {
      "image/png": "[encoded data removed]",
      "text/plain": [
       "<Figure size 432x288 with 1 Axes>"
      ]
     },
     "metadata": {},
     "output_type": "display_data"
    }
   ],
   "source": [
    "# Gráfico de densidade\n",
    "sns.kdeplot(casas['Valor'])"
   ]
  },
  {
   "cell_type": "code",
   "execution_count": 8,
   "metadata": {},
   "outputs": [],
   "source": [
    "# QQ-plot (verificando a distribuição dos dados)\n",
    "from statsmodels.graphics.gofplots import qqplot"
   ]
  },
  {
   "cell_type": "code",
   "execution_count": 9,
   "metadata": {},
   "outputs": [
    {
     "data": {
      "image/png": "[encoded data removed]",
      "text/plain": [
       "<Figure size 432x288 with 1 Axes>"
      ]
     },
     "metadata": {},
     "output_type": "display_data"
    }
   ],
   "source": [
    "qqplot(casas['Valor'], line='s')\n",
    "plt.show()"
   ]
  },
  {
   "cell_type": "code",
   "execution_count": 14,
   "metadata": {},
   "outputs": [
    {
     "data": {
      "image/png": "[encoded data removed]",
      "text/plain": [
       "<Figure size 576x576 with 4 Axes>"
      ]
     },
     "metadata": {},
     "output_type": "display_data"
    },
    {
     "data": {
      "image/png": "[encoded data removed]",
      "text/plain": [
       "<Figure size 432x288 with 1 Axes>"
      ]
     },
     "metadata": {},
     "output_type": "display_data"
    }
   ],
   "source": [
    "# Gráficos em uma mesma área de plotagem\n",
    "plt.figure(figsize=(8,8))\n",
    "plt.subplot(3,2,1)\n",
    "plt.hist(casas['Valor'])\n",
    "plt.subplot(3,2,2)\n",
    "sns.boxplot(y=casas['Valor'])\n",
    "plt.subplot(3,2,3)\n",
    "sns.kdeplot(casas['Valor'])\n",
    "plt.subplot(3,2,4)\n",
    "sns.distplot(casas['Valor'])\n",
    "\n",
    "qqplot(casas['Valor'], line='s')\n",
    "plt.show()"
   ]
  },
  {
   "cell_type": "code",
   "execution_count": 15,
   "metadata": {},
   "outputs": [
    {
     "data": {
      "text/html": [
       "<div>\n",
       "<style scoped>\n",
       "    .dataframe tbody tr th:only-of-type {\n",
       "        vertical-align: middle;\n",
       "    }\n",
       "\n",
       "    .dataframe tbody tr th {\n",
       "        vertical-align: top;\n",
       "    }\n",
       "\n",
       "    .dataframe thead th {\n",
       "        text-align: right;\n",
       "    }\n",
       "</style>\n",
       "<table border=\"1\" class=\"dataframe\">\n",
       "  <thead>\n",
       "    <tr style=\"text-align: right;\">\n",
       "      <th></th>\n",
       "      <th>id</th>\n",
       "      <th>Valor</th>\n",
       "      <th>Tamanho</th>\n",
       "      <th>Lote</th>\n",
       "      <th>Banheiros</th>\n",
       "      <th>Quartos</th>\n",
       "      <th>BQ</th>\n",
       "      <th>Ano</th>\n",
       "      <th>Tempo</th>\n",
       "      <th>Tempo_Quad</th>\n",
       "      <th>Garagem_Tamanho</th>\n",
       "      <th>Status</th>\n",
       "      <th>D7</th>\n",
       "      <th>escola</th>\n",
       "      <th>D8</th>\n",
       "      <th>D9</th>\n",
       "      <th>D10</th>\n",
       "      <th>D11</th>\n",
       "      <th>D12</th>\n",
       "    </tr>\n",
       "  </thead>\n",
       "  <tbody>\n",
       "    <tr>\n",
       "      <th>1</th>\n",
       "      <td>2</td>\n",
       "      <td>450.0</td>\n",
       "      <td>2.054</td>\n",
       "      <td>5</td>\n",
       "      <td>3.0</td>\n",
       "      <td>4</td>\n",
       "      <td>12.0</td>\n",
       "      <td>1957</td>\n",
       "      <td>-1.3</td>\n",
       "      <td>1.69</td>\n",
       "      <td>2</td>\n",
       "      <td>sld</td>\n",
       "      <td>0</td>\n",
       "      <td>edison</td>\n",
       "      <td>1</td>\n",
       "      <td>0</td>\n",
       "      <td>0</td>\n",
       "      <td>0</td>\n",
       "      <td>0</td>\n",
       "    </tr>\n",
       "    <tr>\n",
       "      <th>73</th>\n",
       "      <td>74</td>\n",
       "      <td>435.0</td>\n",
       "      <td>2.253</td>\n",
       "      <td>11</td>\n",
       "      <td>2.0</td>\n",
       "      <td>3</td>\n",
       "      <td>6.0</td>\n",
       "      <td>1979</td>\n",
       "      <td>0.9</td>\n",
       "      <td>0.81</td>\n",
       "      <td>2</td>\n",
       "      <td>sld</td>\n",
       "      <td>0</td>\n",
       "      <td>edge</td>\n",
       "      <td>0</td>\n",
       "      <td>0</td>\n",
       "      <td>0</td>\n",
       "      <td>0</td>\n",
       "      <td>0</td>\n",
       "    </tr>\n",
       "    <tr>\n",
       "      <th>0</th>\n",
       "      <td>1</td>\n",
       "      <td>388.0</td>\n",
       "      <td>2.180</td>\n",
       "      <td>4</td>\n",
       "      <td>3.0</td>\n",
       "      <td>4</td>\n",
       "      <td>12.0</td>\n",
       "      <td>1940</td>\n",
       "      <td>-3.0</td>\n",
       "      <td>9.00</td>\n",
       "      <td>0</td>\n",
       "      <td>sld</td>\n",
       "      <td>0</td>\n",
       "      <td>edison</td>\n",
       "      <td>1</td>\n",
       "      <td>0</td>\n",
       "      <td>0</td>\n",
       "      <td>0</td>\n",
       "      <td>0</td>\n",
       "    </tr>\n",
       "    <tr>\n",
       "      <th>2</th>\n",
       "      <td>3</td>\n",
       "      <td>386.0</td>\n",
       "      <td>2.112</td>\n",
       "      <td>5</td>\n",
       "      <td>2.0</td>\n",
       "      <td>4</td>\n",
       "      <td>8.0</td>\n",
       "      <td>1955</td>\n",
       "      <td>-1.5</td>\n",
       "      <td>2.25</td>\n",
       "      <td>2</td>\n",
       "      <td>sld</td>\n",
       "      <td>0</td>\n",
       "      <td>edison</td>\n",
       "      <td>1</td>\n",
       "      <td>0</td>\n",
       "      <td>0</td>\n",
       "      <td>0</td>\n",
       "      <td>0</td>\n",
       "    </tr>\n",
       "    <tr>\n",
       "      <th>51</th>\n",
       "      <td>52</td>\n",
       "      <td>385.5</td>\n",
       "      <td>1.904</td>\n",
       "      <td>4</td>\n",
       "      <td>1.1</td>\n",
       "      <td>3</td>\n",
       "      <td>3.3</td>\n",
       "      <td>1919</td>\n",
       "      <td>-5.1</td>\n",
       "      <td>26.01</td>\n",
       "      <td>1</td>\n",
       "      <td>sld</td>\n",
       "      <td>0</td>\n",
       "      <td>edison</td>\n",
       "      <td>1</td>\n",
       "      <td>0</td>\n",
       "      <td>0</td>\n",
       "      <td>0</td>\n",
       "      <td>0</td>\n",
       "    </tr>\n",
       "  </tbody>\n",
       "</table>\n",
       "</div>"
      ],
      "text/plain": [
       "    id  Valor  Tamanho  Lote  Banheiros  Quartos    BQ   Ano  Tempo  \\\n",
       "1    2  450.0    2.054     5        3.0        4  12.0  1957   -1.3   \n",
       "73  74  435.0    2.253    11        2.0        3   6.0  1979    0.9   \n",
       "0    1  388.0    2.180     4        3.0        4  12.0  1940   -3.0   \n",
       "2    3  386.0    2.112     5        2.0        4   8.0  1955   -1.5   \n",
       "51  52  385.5    1.904     4        1.1        3   3.3  1919   -5.1   \n",
       "\n",
       "    Tempo_Quad  Garagem_Tamanho Status  D7  escola  D8  D9  D10  D11  D12  \n",
       "1         1.69                2    sld   0  edison   1   0    0    0    0  \n",
       "73        0.81                2    sld   0    edge   0   0    0    0    0  \n",
       "0         9.00                0    sld   0  edison   1   0    0    0    0  \n",
       "2         2.25                2    sld   0  edison   1   0    0    0    0  \n",
       "51       26.01                1    sld   0  edison   1   0    0    0    0  "
      ]
     },
     "execution_count": 15,
     "metadata": {},
     "output_type": "execute_result"
    }
   ],
   "source": [
    "# Ordenando o dataset pelo \"Valor\" em ordem decrescente\n",
    "casas.sort_values(by='Valor', ascending=False).head()"
   ]
  },
  {
   "cell_type": "code",
   "execution_count": 16,
   "metadata": {},
   "outputs": [
    {
     "data": {
      "text/html": [
       "<div>\n",
       "<style scoped>\n",
       "    .dataframe tbody tr th:only-of-type {\n",
       "        vertical-align: middle;\n",
       "    }\n",
       "\n",
       "    .dataframe tbody tr th {\n",
       "        vertical-align: top;\n",
       "    }\n",
       "\n",
       "    .dataframe thead th {\n",
       "        text-align: right;\n",
       "    }\n",
       "</style>\n",
       "<table border=\"1\" class=\"dataframe\">\n",
       "  <thead>\n",
       "    <tr style=\"text-align: right;\">\n",
       "      <th></th>\n",
       "      <th>id</th>\n",
       "      <th>Valor</th>\n",
       "      <th>Tamanho</th>\n",
       "      <th>Lote</th>\n",
       "      <th>Banheiros</th>\n",
       "      <th>Quartos</th>\n",
       "      <th>BQ</th>\n",
       "      <th>Ano</th>\n",
       "      <th>Tempo</th>\n",
       "      <th>Tempo_Quad</th>\n",
       "      <th>Garagem_Tamanho</th>\n",
       "      <th>D7</th>\n",
       "      <th>D8</th>\n",
       "      <th>D9</th>\n",
       "      <th>D10</th>\n",
       "      <th>D11</th>\n",
       "      <th>D12</th>\n",
       "    </tr>\n",
       "  </thead>\n",
       "  <tbody>\n",
       "    <tr>\n",
       "      <th>count</th>\n",
       "      <td>76.000000</td>\n",
       "      <td>76.000000</td>\n",
       "      <td>76.000000</td>\n",
       "      <td>76.000000</td>\n",
       "      <td>76.000000</td>\n",
       "      <td>76.000000</td>\n",
       "      <td>76.000000</td>\n",
       "      <td>76.000000</td>\n",
       "      <td>76.000000</td>\n",
       "      <td>76.000000</td>\n",
       "      <td>76.000000</td>\n",
       "      <td>76.000000</td>\n",
       "      <td>76.000000</td>\n",
       "      <td>76.000000</td>\n",
       "      <td>76.000000</td>\n",
       "      <td>76.000000</td>\n",
       "      <td>76.000000</td>\n",
       "    </tr>\n",
       "    <tr>\n",
       "      <th>mean</th>\n",
       "      <td>38.500000</td>\n",
       "      <td>285.795395</td>\n",
       "      <td>1.970395</td>\n",
       "      <td>3.986842</td>\n",
       "      <td>2.207895</td>\n",
       "      <td>3.447368</td>\n",
       "      <td>7.672368</td>\n",
       "      <td>1969.407895</td>\n",
       "      <td>-0.059211</td>\n",
       "      <td>5.449868</td>\n",
       "      <td>1.565789</td>\n",
       "      <td>0.328947</td>\n",
       "      <td>0.157895</td>\n",
       "      <td>0.184211</td>\n",
       "      <td>0.039474</td>\n",
       "      <td>0.078947</td>\n",
       "      <td>0.197368</td>\n",
       "    </tr>\n",
       "    <tr>\n",
       "      <th>std</th>\n",
       "      <td>22.083176</td>\n",
       "      <td>60.332686</td>\n",
       "      <td>0.212420</td>\n",
       "      <td>1.653227</td>\n",
       "      <td>0.570325</td>\n",
       "      <td>0.737468</td>\n",
       "      <td>2.764663</td>\n",
       "      <td>23.492511</td>\n",
       "      <td>2.349251</td>\n",
       "      <td>8.206546</td>\n",
       "      <td>0.771760</td>\n",
       "      <td>0.472953</td>\n",
       "      <td>0.367065</td>\n",
       "      <td>0.390232</td>\n",
       "      <td>0.196013</td>\n",
       "      <td>0.271448</td>\n",
       "      <td>0.400657</td>\n",
       "    </tr>\n",
       "    <tr>\n",
       "      <th>min</th>\n",
       "      <td>1.000000</td>\n",
       "      <td>155.500000</td>\n",
       "      <td>1.440000</td>\n",
       "      <td>1.000000</td>\n",
       "      <td>1.000000</td>\n",
       "      <td>2.000000</td>\n",
       "      <td>2.000000</td>\n",
       "      <td>1905.000000</td>\n",
       "      <td>-6.500000</td>\n",
       "      <td>0.000000</td>\n",
       "      <td>0.000000</td>\n",
       "      <td>0.000000</td>\n",
       "      <td>0.000000</td>\n",
       "      <td>0.000000</td>\n",
       "      <td>0.000000</td>\n",
       "      <td>0.000000</td>\n",
       "      <td>0.000000</td>\n",
       "    </tr>\n",
       "    <tr>\n",
       "      <th>25%</th>\n",
       "      <td>19.750000</td>\n",
       "      <td>242.750000</td>\n",
       "      <td>1.860750</td>\n",
       "      <td>3.000000</td>\n",
       "      <td>2.000000</td>\n",
       "      <td>3.000000</td>\n",
       "      <td>6.000000</td>\n",
       "      <td>1957.750000</td>\n",
       "      <td>-1.225000</td>\n",
       "      <td>0.250000</td>\n",
       "      <td>1.000000</td>\n",
       "      <td>0.000000</td>\n",
       "      <td>0.000000</td>\n",
       "      <td>0.000000</td>\n",
       "      <td>0.000000</td>\n",
       "      <td>0.000000</td>\n",
       "      <td>0.000000</td>\n",
       "    </tr>\n",
       "    <tr>\n",
       "      <th>50%</th>\n",
       "      <td>38.500000</td>\n",
       "      <td>276.000000</td>\n",
       "      <td>1.966500</td>\n",
       "      <td>4.000000</td>\n",
       "      <td>2.000000</td>\n",
       "      <td>3.000000</td>\n",
       "      <td>6.300000</td>\n",
       "      <td>1969.500000</td>\n",
       "      <td>-0.050000</td>\n",
       "      <td>1.220000</td>\n",
       "      <td>2.000000</td>\n",
       "      <td>0.000000</td>\n",
       "      <td>0.000000</td>\n",
       "      <td>0.000000</td>\n",
       "      <td>0.000000</td>\n",
       "      <td>0.000000</td>\n",
       "      <td>0.000000</td>\n",
       "    </tr>\n",
       "    <tr>\n",
       "      <th>75%</th>\n",
       "      <td>57.250000</td>\n",
       "      <td>336.750000</td>\n",
       "      <td>2.107500</td>\n",
       "      <td>5.000000</td>\n",
       "      <td>3.000000</td>\n",
       "      <td>4.000000</td>\n",
       "      <td>9.000000</td>\n",
       "      <td>1980.000000</td>\n",
       "      <td>1.000000</td>\n",
       "      <td>9.000000</td>\n",
       "      <td>2.000000</td>\n",
       "      <td>1.000000</td>\n",
       "      <td>0.000000</td>\n",
       "      <td>0.000000</td>\n",
       "      <td>0.000000</td>\n",
       "      <td>0.000000</td>\n",
       "      <td>0.000000</td>\n",
       "    </tr>\n",
       "    <tr>\n",
       "      <th>max</th>\n",
       "      <td>76.000000</td>\n",
       "      <td>450.000000</td>\n",
       "      <td>2.896000</td>\n",
       "      <td>11.000000</td>\n",
       "      <td>3.100000</td>\n",
       "      <td>6.000000</td>\n",
       "      <td>15.000000</td>\n",
       "      <td>2005.000000</td>\n",
       "      <td>3.500000</td>\n",
       "      <td>42.250000</td>\n",
       "      <td>3.000000</td>\n",
       "      <td>1.000000</td>\n",
       "      <td>1.000000</td>\n",
       "      <td>1.000000</td>\n",
       "      <td>1.000000</td>\n",
       "      <td>1.000000</td>\n",
       "      <td>1.000000</td>\n",
       "    </tr>\n",
       "  </tbody>\n",
       "</table>\n",
       "</div>"
      ],
      "text/plain": [
       "              id       Valor    Tamanho       Lote  Banheiros    Quartos  \\\n",
       "count  76.000000   76.000000  76.000000  76.000000  76.000000  76.000000   \n",
       "mean   38.500000  285.795395   1.970395   3.986842   2.207895   3.447368   \n",
       "std    22.083176   60.332686   0.212420   1.653227   0.570325   0.737468   \n",
       "min     1.000000  155.500000   1.440000   1.000000   1.000000   2.000000   \n",
       "25%    19.750000  242.750000   1.860750   3.000000   2.000000   3.000000   \n",
       "50%    38.500000  276.000000   1.966500   4.000000   2.000000   3.000000   \n",
       "75%    57.250000  336.750000   2.107500   5.000000   3.000000   4.000000   \n",
       "max    76.000000  450.000000   2.896000  11.000000   3.100000   6.000000   \n",
       "\n",
       "              BQ          Ano      Tempo  Tempo_Quad  Garagem_Tamanho  \\\n",
       "count  76.000000    76.000000  76.000000   76.000000        76.000000   \n",
       "mean    7.672368  1969.407895  -0.059211    5.449868         1.565789   \n",
       "std     2.764663    23.492511   2.349251    8.206546         0.771760   \n",
       "min     2.000000  1905.000000  -6.500000    0.000000         0.000000   \n",
       "25%     6.000000  1957.750000  -1.225000    0.250000         1.000000   \n",
       "50%     6.300000  1969.500000  -0.050000    1.220000         2.000000   \n",
       "75%     9.000000  1980.000000   1.000000    9.000000         2.000000   \n",
       "max    15.000000  2005.000000   3.500000   42.250000         3.000000   \n",
       "\n",
       "              D7         D8         D9        D10        D11        D12  \n",
       "count  76.000000  76.000000  76.000000  76.000000  76.000000  76.000000  \n",
       "mean    0.328947   0.157895   0.184211   0.039474   0.078947   0.197368  \n",
       "std     0.472953   0.367065   0.390232   0.196013   0.271448   0.400657  \n",
       "min     0.000000   0.000000   0.000000   0.000000   0.000000   0.000000  \n",
       "25%     0.000000   0.000000   0.000000   0.000000   0.000000   0.000000  \n",
       "50%     0.000000   0.000000   0.000000   0.000000   0.000000   0.000000  \n",
       "75%     1.000000   0.000000   0.000000   0.000000   0.000000   0.000000  \n",
       "max     1.000000   1.000000   1.000000   1.000000   1.000000   1.000000  "
      ]
     },
     "execution_count": 16,
     "metadata": {},
     "output_type": "execute_result"
    }
   ],
   "source": [
    "# Resumo estatístico do dataset\n",
    "casas.describe()"
   ]
  },
  {
   "cell_type": "code",
   "execution_count": 17,
   "metadata": {},
   "outputs": [
    {
     "data": {
      "text/plain": [
       "array([[<matplotlib.axes._subplots.AxesSubplot object at 0x00000010B4D6C588>,\n",
       "        <matplotlib.axes._subplots.AxesSubplot object at 0x00000010B27ACA20>,\n",
       "        <matplotlib.axes._subplots.AxesSubplot object at 0x00000010B4E9EB38>,\n",
       "        <matplotlib.axes._subplots.AxesSubplot object at 0x00000010B4ECE0F0>],\n",
       "       [<matplotlib.axes._subplots.AxesSubplot object at 0x00000010B4EF5668>,\n",
       "        <matplotlib.axes._subplots.AxesSubplot object at 0x00000010B4F1BBE0>,\n",
       "        <matplotlib.axes._subplots.AxesSubplot object at 0x00000010B4F4D198>,\n",
       "        <matplotlib.axes._subplots.AxesSubplot object at 0x00000010B4F746D8>],\n",
       "       [<matplotlib.axes._subplots.AxesSubplot object at 0x00000010B4F74710>,\n",
       "        <matplotlib.axes._subplots.AxesSubplot object at 0x00000010B4FCC1D0>,\n",
       "        <matplotlib.axes._subplots.AxesSubplot object at 0x00000010B4FF4748>,\n",
       "        <matplotlib.axes._subplots.AxesSubplot object at 0x00000010B501ACC0>],\n",
       "       [<matplotlib.axes._subplots.AxesSubplot object at 0x00000010B504E278>,\n",
       "        <matplotlib.axes._subplots.AxesSubplot object at 0x00000010B50757F0>,\n",
       "        <matplotlib.axes._subplots.AxesSubplot object at 0x00000010B509DD68>,\n",
       "        <matplotlib.axes._subplots.AxesSubplot object at 0x00000010B50CF320>],\n",
       "       [<matplotlib.axes._subplots.AxesSubplot object at 0x00000010B50F6898>,\n",
       "        <matplotlib.axes._subplots.AxesSubplot object at 0x00000010B511EE10>,\n",
       "        <matplotlib.axes._subplots.AxesSubplot object at 0x00000010B514E3C8>,\n",
       "        <matplotlib.axes._subplots.AxesSubplot object at 0x00000010B5176940>]],\n",
       "      dtype=object)"
      ]
     },
     "execution_count": 17,
     "metadata": {},
     "output_type": "execute_result"
    },
    {
     "data": {
      "image/png": "[encoded data removed]",
      "text/plain": [
       "<Figure size 1152x1080 with 20 Axes>"
      ]
     },
     "metadata": {},
     "output_type": "display_data"
    }
   ],
   "source": [
    "# Histogramas de todoos atributos \n",
    "casas.hist(figsize=(16,15))"
   ]
  },
  {
   "cell_type": "code",
   "execution_count": 18,
   "metadata": {},
   "outputs": [
    {
     "data": {
      "text/plain": [
       "id                 0\n",
       "Valor              0\n",
       "Tamanho            0\n",
       "Lote               0\n",
       "Banheiros          0\n",
       "Quartos            0\n",
       "BQ                 0\n",
       "Ano                0\n",
       "Tempo              0\n",
       "Tempo_Quad         0\n",
       "Garagem_Tamanho    0\n",
       "Status             0\n",
       "D7                 0\n",
       "escola             0\n",
       "D8                 0\n",
       "D9                 0\n",
       "D10                0\n",
       "D11                0\n",
       "D12                0\n",
       "dtype: int64"
      ]
     },
     "execution_count": 18,
     "metadata": {},
     "output_type": "execute_result"
    }
   ],
   "source": [
    "# Verificando os valores NaN (Not a Number)\n",
    "casas.isnull().sum()"
   ]
  },
  {
   "cell_type": "code",
   "execution_count": 19,
   "metadata": {},
   "outputs": [
    {
     "data": {
      "text/plain": [
       "edge      26\n",
       "parker    15\n",
       "harris    14\n",
       "edison    12\n",
       "crest      6\n",
       "adams      3\n",
       "Name: escola, dtype: int64"
      ]
     },
     "execution_count": 19,
     "metadata": {},
     "output_type": "execute_result"
    }
   ],
   "source": [
    "# Variáveis categóricas - quantidade de observações por categoria\n",
    "casas['escola'].value_counts()"
   ]
  },
  {
   "cell_type": "code",
   "execution_count": 20,
   "metadata": {},
   "outputs": [
    {
     "data": {
      "text/plain": [
       "<matplotlib.axes._subplots.AxesSubplot at 0x10b58d0e10>"
      ]
     },
     "execution_count": 20,
     "metadata": {},
     "output_type": "execute_result"
    },
    {
     "data": {
      "image/png": "[encoded data removed]",
      "text/plain": [
       "<Figure size 432x288 with 1 Axes>"
      ]
     },
     "metadata": {},
     "output_type": "display_data"
    }
   ],
   "source": [
    "# Gráfico de distribuição por categorias \n",
    "sns.countplot(x='escola', data=casas)"
   ]
  },
  {
   "cell_type": "code",
   "execution_count": 21,
   "metadata": {},
   "outputs": [
    {
     "data": {
      "text/plain": [
       "escola\n",
       "adams     241.833333\n",
       "crest     287.816667\n",
       "edge      269.757692\n",
       "edison    327.100000\n",
       "harris    319.103571\n",
       "parker    257.446667\n",
       "Name: Valor, dtype: float64"
      ]
     },
     "execution_count": 21,
     "metadata": {},
     "output_type": "execute_result"
    }
   ],
   "source": [
    "# Verificando a média dos valores em relação a localização (escola)\n",
    "casas.groupby('escola')['Valor'].agg(np.mean)"
   ]
  },
  {
   "cell_type": "code",
   "execution_count": 22,
   "metadata": {},
   "outputs": [
    {
     "data": {
      "text/plain": [
       "<matplotlib.axes._subplots.AxesSubplot at 0x10b4b7be80>"
      ]
     },
     "execution_count": 22,
     "metadata": {},
     "output_type": "execute_result"
    },
    {
     "data": {
      "image/png": "[encoded data removed]",
      "text/plain": [
       "<Figure size 432x288 with 1 Axes>"
      ]
     },
     "metadata": {},
     "output_type": "display_data"
    }
   ],
   "source": [
    "# Bloxplot por grupos\n",
    "sns.boxplot(x=casas['escola'], y=casas['Valor'], showmeans=True)"
   ]
  },
  {
   "cell_type": "code",
   "execution_count": 23,
   "metadata": {},
   "outputs": [
    {
     "data": {
      "text/plain": [
       "sld    0.500000\n",
       "act    0.328947\n",
       "pen    0.171053\n",
       "Name: Status, dtype: float64"
      ]
     },
     "execution_count": 23,
     "metadata": {},
     "output_type": "execute_result"
    }
   ],
   "source": [
    "# Variáveis categóricas - valores proporcionais (percentuais)\n",
    "casas['Status'].value_counts(normalize=True)"
   ]
  },
  {
   "cell_type": "code",
   "execution_count": 24,
   "metadata": {},
   "outputs": [
    {
     "data": {
      "text/plain": [
       "269.21315789473687"
      ]
     },
     "execution_count": 24,
     "metadata": {},
     "output_type": "execute_result"
    }
   ],
   "source": [
    "# Verificando a média dos valores das casas vendidas\n",
    "casas.loc[casas['Status']=='sld', 'Valor'].mean()"
   ]
  },
  {
   "cell_type": "code",
   "execution_count": 25,
   "metadata": {},
   "outputs": [
    {
     "data": {
      "text/html": [
       "<div>\n",
       "<style scoped>\n",
       "    .dataframe tbody tr th:only-of-type {\n",
       "        vertical-align: middle;\n",
       "    }\n",
       "\n",
       "    .dataframe tbody tr th {\n",
       "        vertical-align: top;\n",
       "    }\n",
       "\n",
       "    .dataframe thead th {\n",
       "        text-align: right;\n",
       "    }\n",
       "</style>\n",
       "<table border=\"1\" class=\"dataframe\">\n",
       "  <thead>\n",
       "    <tr style=\"text-align: right;\">\n",
       "      <th>Status</th>\n",
       "      <th>act</th>\n",
       "      <th>pen</th>\n",
       "      <th>sld</th>\n",
       "    </tr>\n",
       "    <tr>\n",
       "      <th>escola</th>\n",
       "      <th></th>\n",
       "      <th></th>\n",
       "      <th></th>\n",
       "    </tr>\n",
       "  </thead>\n",
       "  <tbody>\n",
       "    <tr>\n",
       "      <th>adams</th>\n",
       "      <td>1</td>\n",
       "      <td>0</td>\n",
       "      <td>2</td>\n",
       "    </tr>\n",
       "    <tr>\n",
       "      <th>crest</th>\n",
       "      <td>5</td>\n",
       "      <td>0</td>\n",
       "      <td>1</td>\n",
       "    </tr>\n",
       "    <tr>\n",
       "      <th>edge</th>\n",
       "      <td>6</td>\n",
       "      <td>6</td>\n",
       "      <td>14</td>\n",
       "    </tr>\n",
       "    <tr>\n",
       "      <th>edison</th>\n",
       "      <td>1</td>\n",
       "      <td>2</td>\n",
       "      <td>9</td>\n",
       "    </tr>\n",
       "    <tr>\n",
       "      <th>harris</th>\n",
       "      <td>6</td>\n",
       "      <td>3</td>\n",
       "      <td>5</td>\n",
       "    </tr>\n",
       "    <tr>\n",
       "      <th>parker</th>\n",
       "      <td>6</td>\n",
       "      <td>2</td>\n",
       "      <td>7</td>\n",
       "    </tr>\n",
       "  </tbody>\n",
       "</table>\n",
       "</div>"
      ],
      "text/plain": [
       "Status  act  pen  sld\n",
       "escola               \n",
       "adams     1    0    2\n",
       "crest     5    0    1\n",
       "edge      6    6   14\n",
       "edison    1    2    9\n",
       "harris    6    3    5\n",
       "parker    6    2    7"
      ]
     },
     "execution_count": 25,
     "metadata": {},
     "output_type": "execute_result"
    }
   ],
   "source": [
    "# Analisando a distribuição das observações entre duas variáveis (tabela de contingência)\n",
    "pd.crosstab(casas['escola'], casas['Status'])"
   ]
  },
  {
   "cell_type": "code",
   "execution_count": 45,
   "metadata": {},
   "outputs": [
    {
     "data": {
      "text/html": [
       "<div>\n",
       "<style scoped>\n",
       "    .dataframe tbody tr th:only-of-type {\n",
       "        vertical-align: middle;\n",
       "    }\n",
       "\n",
       "    .dataframe tbody tr th {\n",
       "        vertical-align: top;\n",
       "    }\n",
       "\n",
       "    .dataframe thead th {\n",
       "        text-align: right;\n",
       "    }\n",
       "</style>\n",
       "<table border=\"1\" class=\"dataframe\">\n",
       "  <thead>\n",
       "    <tr style=\"text-align: right;\">\n",
       "      <th>Status</th>\n",
       "      <th>act</th>\n",
       "      <th>pen</th>\n",
       "      <th>sld</th>\n",
       "    </tr>\n",
       "    <tr>\n",
       "      <th>escola</th>\n",
       "      <th></th>\n",
       "      <th></th>\n",
       "      <th></th>\n",
       "    </tr>\n",
       "  </thead>\n",
       "  <tbody>\n",
       "    <tr>\n",
       "      <th>adams</th>\n",
       "      <td>33.333333</td>\n",
       "      <td>0.000000</td>\n",
       "      <td>66.666667</td>\n",
       "    </tr>\n",
       "    <tr>\n",
       "      <th>crest</th>\n",
       "      <td>83.333333</td>\n",
       "      <td>0.000000</td>\n",
       "      <td>16.666667</td>\n",
       "    </tr>\n",
       "    <tr>\n",
       "      <th>edge</th>\n",
       "      <td>23.076923</td>\n",
       "      <td>23.076923</td>\n",
       "      <td>53.846154</td>\n",
       "    </tr>\n",
       "    <tr>\n",
       "      <th>edison</th>\n",
       "      <td>8.333333</td>\n",
       "      <td>16.666667</td>\n",
       "      <td>75.000000</td>\n",
       "    </tr>\n",
       "    <tr>\n",
       "      <th>harris</th>\n",
       "      <td>42.857143</td>\n",
       "      <td>21.428571</td>\n",
       "      <td>35.714286</td>\n",
       "    </tr>\n",
       "    <tr>\n",
       "      <th>parker</th>\n",
       "      <td>40.000000</td>\n",
       "      <td>13.333333</td>\n",
       "      <td>46.666667</td>\n",
       "    </tr>\n",
       "  </tbody>\n",
       "</table>\n",
       "</div>"
      ],
      "text/plain": [
       "Status        act        pen        sld\n",
       "escola                                 \n",
       "adams   33.333333   0.000000  66.666667\n",
       "crest   83.333333   0.000000  16.666667\n",
       "edge    23.076923  23.076923  53.846154\n",
       "edison   8.333333  16.666667  75.000000\n",
       "harris  42.857143  21.428571  35.714286\n",
       "parker  40.000000  13.333333  46.666667"
      ]
     },
     "execution_count": 45,
     "metadata": {},
     "output_type": "execute_result"
    }
   ],
   "source": [
    "# Tabela de contingência com valores percentuais (por linha)\n",
    "pd.crosstab(casas['escola'], casas['Status'], normalize='index', ).mul(100)"
   ]
  },
  {
   "cell_type": "code",
   "execution_count": null,
   "metadata": {},
   "outputs": [],
   "source": [
    "sns.countplot(x='escola', hue='Status', data=casas)"
   ]
  },
  {
   "cell_type": "markdown",
   "metadata": {},
   "source": [
    "## Transformando Dados"
   ]
  },
  {
   "cell_type": "code",
   "execution_count": 27,
   "metadata": {},
   "outputs": [
    {
     "data": {
      "text/html": [
       "<div>\n",
       "<style scoped>\n",
       "    .dataframe tbody tr th:only-of-type {\n",
       "        vertical-align: middle;\n",
       "    }\n",
       "\n",
       "    .dataframe tbody tr th {\n",
       "        vertical-align: top;\n",
       "    }\n",
       "\n",
       "    .dataframe thead th {\n",
       "        text-align: right;\n",
       "    }\n",
       "</style>\n",
       "<table border=\"1\" class=\"dataframe\">\n",
       "  <thead>\n",
       "    <tr style=\"text-align: right;\">\n",
       "      <th></th>\n",
       "      <th>Order</th>\n",
       "      <th>PID</th>\n",
       "      <th>MS SubClass</th>\n",
       "      <th>MS Zoning</th>\n",
       "      <th>Lot Frontage</th>\n",
       "      <th>Lot Area</th>\n",
       "      <th>Street</th>\n",
       "      <th>Alley</th>\n",
       "      <th>Lot Shape</th>\n",
       "      <th>Land Contour</th>\n",
       "      <th>...</th>\n",
       "      <th>Pool Area</th>\n",
       "      <th>Pool QC</th>\n",
       "      <th>Fence</th>\n",
       "      <th>Misc Feature</th>\n",
       "      <th>Misc Val</th>\n",
       "      <th>Mo Sold</th>\n",
       "      <th>Yr Sold</th>\n",
       "      <th>Sale Type</th>\n",
       "      <th>Sale Condition</th>\n",
       "      <th>SalePrice</th>\n",
       "    </tr>\n",
       "  </thead>\n",
       "  <tbody>\n",
       "    <tr>\n",
       "      <th>0</th>\n",
       "      <td>1</td>\n",
       "      <td>526301100</td>\n",
       "      <td>20</td>\n",
       "      <td>RL</td>\n",
       "      <td>141.0</td>\n",
       "      <td>31770</td>\n",
       "      <td>Pave</td>\n",
       "      <td>NaN</td>\n",
       "      <td>IR1</td>\n",
       "      <td>Lvl</td>\n",
       "      <td>...</td>\n",
       "      <td>0</td>\n",
       "      <td>NaN</td>\n",
       "      <td>NaN</td>\n",
       "      <td>NaN</td>\n",
       "      <td>0</td>\n",
       "      <td>5</td>\n",
       "      <td>2010</td>\n",
       "      <td>WD</td>\n",
       "      <td>Normal</td>\n",
       "      <td>215000</td>\n",
       "    </tr>\n",
       "    <tr>\n",
       "      <th>1</th>\n",
       "      <td>2</td>\n",
       "      <td>526350040</td>\n",
       "      <td>20</td>\n",
       "      <td>RH</td>\n",
       "      <td>80.0</td>\n",
       "      <td>11622</td>\n",
       "      <td>Pave</td>\n",
       "      <td>NaN</td>\n",
       "      <td>Reg</td>\n",
       "      <td>Lvl</td>\n",
       "      <td>...</td>\n",
       "      <td>0</td>\n",
       "      <td>NaN</td>\n",
       "      <td>MnPrv</td>\n",
       "      <td>NaN</td>\n",
       "      <td>0</td>\n",
       "      <td>6</td>\n",
       "      <td>2010</td>\n",
       "      <td>WD</td>\n",
       "      <td>Normal</td>\n",
       "      <td>105000</td>\n",
       "    </tr>\n",
       "    <tr>\n",
       "      <th>2</th>\n",
       "      <td>3</td>\n",
       "      <td>526351010</td>\n",
       "      <td>20</td>\n",
       "      <td>RL</td>\n",
       "      <td>81.0</td>\n",
       "      <td>14267</td>\n",
       "      <td>Pave</td>\n",
       "      <td>NaN</td>\n",
       "      <td>IR1</td>\n",
       "      <td>Lvl</td>\n",
       "      <td>...</td>\n",
       "      <td>0</td>\n",
       "      <td>NaN</td>\n",
       "      <td>NaN</td>\n",
       "      <td>Gar2</td>\n",
       "      <td>12500</td>\n",
       "      <td>6</td>\n",
       "      <td>2010</td>\n",
       "      <td>WD</td>\n",
       "      <td>Normal</td>\n",
       "      <td>172000</td>\n",
       "    </tr>\n",
       "    <tr>\n",
       "      <th>3</th>\n",
       "      <td>4</td>\n",
       "      <td>526353030</td>\n",
       "      <td>20</td>\n",
       "      <td>RL</td>\n",
       "      <td>93.0</td>\n",
       "      <td>11160</td>\n",
       "      <td>Pave</td>\n",
       "      <td>NaN</td>\n",
       "      <td>Reg</td>\n",
       "      <td>Lvl</td>\n",
       "      <td>...</td>\n",
       "      <td>0</td>\n",
       "      <td>NaN</td>\n",
       "      <td>NaN</td>\n",
       "      <td>NaN</td>\n",
       "      <td>0</td>\n",
       "      <td>4</td>\n",
       "      <td>2010</td>\n",
       "      <td>WD</td>\n",
       "      <td>Normal</td>\n",
       "      <td>244000</td>\n",
       "    </tr>\n",
       "    <tr>\n",
       "      <th>4</th>\n",
       "      <td>5</td>\n",
       "      <td>527105010</td>\n",
       "      <td>60</td>\n",
       "      <td>RL</td>\n",
       "      <td>74.0</td>\n",
       "      <td>13830</td>\n",
       "      <td>Pave</td>\n",
       "      <td>NaN</td>\n",
       "      <td>IR1</td>\n",
       "      <td>Lvl</td>\n",
       "      <td>...</td>\n",
       "      <td>0</td>\n",
       "      <td>NaN</td>\n",
       "      <td>MnPrv</td>\n",
       "      <td>NaN</td>\n",
       "      <td>0</td>\n",
       "      <td>3</td>\n",
       "      <td>2010</td>\n",
       "      <td>WD</td>\n",
       "      <td>Normal</td>\n",
       "      <td>189900</td>\n",
       "    </tr>\n",
       "  </tbody>\n",
       "</table>\n",
       "<p>5 rows × 82 columns</p>\n",
       "</div>"
      ],
      "text/plain": [
       "   Order        PID  MS SubClass MS Zoning  Lot Frontage  Lot Area Street  \\\n",
       "0      1  526301100           20        RL         141.0     31770   Pave   \n",
       "1      2  526350040           20        RH          80.0     11622   Pave   \n",
       "2      3  526351010           20        RL          81.0     14267   Pave   \n",
       "3      4  526353030           20        RL          93.0     11160   Pave   \n",
       "4      5  527105010           60        RL          74.0     13830   Pave   \n",
       "\n",
       "  Alley Lot Shape Land Contour  ... Pool Area Pool QC  Fence Misc Feature  \\\n",
       "0   NaN       IR1          Lvl  ...         0     NaN    NaN          NaN   \n",
       "1   NaN       Reg          Lvl  ...         0     NaN  MnPrv          NaN   \n",
       "2   NaN       IR1          Lvl  ...         0     NaN    NaN         Gar2   \n",
       "3   NaN       Reg          Lvl  ...         0     NaN    NaN          NaN   \n",
       "4   NaN       IR1          Lvl  ...         0     NaN  MnPrv          NaN   \n",
       "\n",
       "  Misc Val Mo Sold Yr Sold Sale Type  Sale Condition  SalePrice  \n",
       "0        0       5    2010       WD           Normal     215000  \n",
       "1        0       6    2010       WD           Normal     105000  \n",
       "2    12500       6    2010       WD           Normal     172000  \n",
       "3        0       4    2010       WD           Normal     244000  \n",
       "4        0       3    2010       WD           Normal     189900  \n",
       "\n",
       "[5 rows x 82 columns]"
      ]
     },
     "execution_count": 27,
     "metadata": {},
     "output_type": "execute_result"
    }
   ],
   "source": [
    "df = pd.read_csv('AmesHousing.csv')\n",
    "df.head()"
   ]
  },
  {
   "cell_type": "code",
   "execution_count": 28,
   "metadata": {},
   "outputs": [
    {
     "data": {
      "text/plain": [
       "(2930, 82)"
      ]
     },
     "execution_count": 28,
     "metadata": {},
     "output_type": "execute_result"
    }
   ],
   "source": [
    "# Verificando o número de observações e atributos do dataframe\n",
    "df.shape"
   ]
  },
  {
   "cell_type": "code",
   "execution_count": 29,
   "metadata": {},
   "outputs": [
    {
     "data": {
      "text/plain": [
       "<matplotlib.axes._subplots.AxesSubplot at 0x10b4b49048>"
      ]
     },
     "execution_count": 29,
     "metadata": {},
     "output_type": "execute_result"
    },
    {
     "data": {
      "image/png": "[encoded data removed]",
      "text/plain": [
       "<Figure size 432x288 with 1 Axes>"
      ]
     },
     "metadata": {},
     "output_type": "display_data"
    }
   ],
   "source": [
    "# Gráfico de densidade e histograma do atributo \"SalePrice\"\n",
    "sns.distplot(df['SalePrice'])"
   ]
  },
  {
   "cell_type": "code",
   "execution_count": 30,
   "metadata": {},
   "outputs": [
    {
     "data": {
      "image/png": "[encoded data removed]",
      "text/plain": [
       "<Figure size 432x288 with 1 Axes>"
      ]
     },
     "metadata": {},
     "output_type": "display_data"
    }
   ],
   "source": [
    "# Análise de distribuição dos valores de \"SalePrice\"\n",
    "qqplot(df['SalePrice'], line='s')\n",
    "plt.show()"
   ]
  },
  {
   "cell_type": "code",
   "execution_count": 31,
   "metadata": {},
   "outputs": [],
   "source": [
    "# Transformando os valores usando a raiz quadrada e o logaritmo natural\n",
    "valor_r = np.sqrt(df['SalePrice'])\n",
    "valor_l = np.log(df['SalePrice'])"
   ]
  },
  {
   "cell_type": "code",
   "execution_count": 32,
   "metadata": {},
   "outputs": [
    {
     "data": {
      "text/plain": [
       "<matplotlib.axes._subplots.AxesSubplot at 0x10b4c32eb8>"
      ]
     },
     "execution_count": 32,
     "metadata": {},
     "output_type": "execute_result"
    },
    {
     "data": {
      "image/png": "[encoded data removed]",
      "text/plain": [
       "<Figure size 864x864 with 3 Axes>"
      ]
     },
     "metadata": {},
     "output_type": "display_data"
    }
   ],
   "source": [
    "# Gráficos de densidade \n",
    "plt.figure(figsize=(12,12))\n",
    "plt.subplot(5,3,1)\n",
    "sns.kdeplot(df['SalePrice'], shade=True, label=\"Original\")\n",
    "plt.subplot(5,3,2)\n",
    "sns.kdeplot(valor_r, shade=True, label=\"(sqrt)\")\n",
    "plt.subplot(5,3,3)\n",
    "sns.kdeplot(valor_l, shade=True, label=\"(log)\" )"
   ]
  },
  {
   "cell_type": "code",
   "execution_count": 33,
   "metadata": {},
   "outputs": [
    {
     "name": "stdout",
     "output_type": "stream",
     "text": [
      "160000.0\n",
      "400.0\n",
      "11.982929094215963\n"
     ]
    }
   ],
   "source": [
    "print(df['SalePrice'].median())\n",
    "print(valor_r.median())\n",
    "print(valor_l.median())"
   ]
  },
  {
   "cell_type": "code",
   "execution_count": 34,
   "metadata": {},
   "outputs": [
    {
     "name": "stdout",
     "output_type": "stream",
     "text": [
      "1.7435000757376466\n",
      "0.8847697873897288\n",
      "-0.014793439509736364\n"
     ]
    }
   ],
   "source": [
    "print(df['SalePrice'].skew())\n",
    "print(valor_r.skew())\n",
    "print(valor_l.skew())"
   ]
  },
  {
   "cell_type": "code",
   "execution_count": 35,
   "metadata": {},
   "outputs": [
    {
     "data": {
      "image/png": "[encoded data removed]",
      "text/plain": [
       "<Figure size 1008x864 with 3 Axes>"
      ]
     },
     "metadata": {},
     "output_type": "display_data"
    }
   ],
   "source": [
    "# Gráfico qqplot\n",
    "fig = plt.figure(figsize=(14,12))\n",
    "ax = fig.add_subplot(3,3,1)\n",
    "qqplot(df['SalePrice'], line='s', ax=ax)\n",
    "ax = fig.add_subplot(3,3,2)\n",
    "qqplot(valor_r, line='s', ax=ax)\n",
    "ax = fig.add_subplot(3,3,3)\n",
    "qqplot(valor_l, line='s', ax=ax)\n",
    "plt.show()"
   ]
  },
  {
   "cell_type": "code",
   "execution_count": null,
   "metadata": {},
   "outputs": [],
   "source": []
  }
 ],
 "metadata": {
  "kernelspec": {
   "display_name": "Python 3",
   "language": "python",
   "name": "python3"
  },
  "language_info": {
   "codemirror_mode": {
    "name": "ipython",
    "version": 3
   },
   "file_extension": ".py",
   "mimetype": "text/x-python",
   "name": "python",
   "nbconvert_exporter": "python",
   "pygments_lexer": "ipython3",
   "version": "3.7.3"
  }
 },
 "nbformat": 4,
 "nbformat_minor": 2
}
